{
  "nbformat": 4,
  "nbformat_minor": 0,
  "metadata": {
    "kernelspec": {
      "display_name": "Python 3",
      "language": "python",
      "name": "python3"
    },
    "language_info": {
      "codemirror_mode": {
        "name": "ipython",
        "version": 3
      },
      "file_extension": ".py",
      "mimetype": "text/x-python",
      "name": "python",
      "nbconvert_exporter": "python",
      "pygments_lexer": "ipython3",
      "version": "3.7.4"
    },
    "colab": {
      "name": "app_update_0825.ipynb",
      "provenance": [],
      "collapsed_sections": [],
      "include_colab_link": true
    }
  },
  "cells": [
    {
      "cell_type": "markdown",
      "metadata": {
        "id": "view-in-github",
        "colab_type": "text"
      },
      "source": [
        "<a href=\"https://colab.research.google.com/github/cc4351/Data-Visualization.github.io/blob/master/app_update_0825.ipynb\" target=\"_parent\"><img src=\"https://colab.research.google.com/assets/colab-badge.svg\" alt=\"Open In Colab\"/></a>"
      ]
    },
    {
      "cell_type": "markdown",
      "metadata": {
        "id": "PCx4-U8LC9q1",
        "colab_type": "text"
      },
      "source": [
        "# source code"
      ]
    },
    {
      "cell_type": "code",
      "metadata": {
        "id": "GpYH-9Tj6pJY",
        "colab_type": "code",
        "colab": {}
      },
      "source": [
        "import os\n",
        "import folium\n",
        "from folium import FeatureGroup, LayerControl, Map, Marker\n",
        "import time\n",
        "import datetime\n",
        "import re\n",
        "import pandas as pd \n",
        "\n",
        "CSV_EXTENSION  = 'csv'\n",
        "EXCEL_EXTENSION = 'xls'\n",
        "\n",
        "\n",
        "class EWBLayer():\n",
        "    def __init__(self, name, color, df):\n",
        "        self.name = name\n",
        "        self.color = color\n",
        "        self.df = df\n",
        "        self.points = []\n",
        "        self.featureGroup = FeatureGroup(name=name)\n",
        "\n",
        "# ref: https://github.com/python-visualization/folium/issues/460\n",
        "class EWBMap():\n",
        "    def __init__(self):\n",
        "        self.layers = []\n",
        "        self.map = Map(\n",
        "            location=[45.372, -121.6972],\n",
        "            zoom_start=12,\n",
        "            tiles='Stamen Terrain'\n",
        "        )\n",
        "        listOfTiles = ['Stamen Toner', 'openstreetmap']\n",
        "        for tile in listOfTiles:\n",
        "            folium.TileLayer(tile).add_to(self.map) \n",
        "        self.layerNames = []\n",
        "    \n",
        "    def makeMapfromLayers(self):\n",
        "        for layer in self.layers:\n",
        "            layer.featureGroup.add_to(self.map)\n",
        "        folium.LayerControl().add_to(self.map)\n",
        "    \n",
        "    def recenter(self, string = \"all\"):\n",
        "        # center around the town - hardcode location TBD\n",
        "        if string == 'town':\n",
        "            x = 45.5236\n",
        "            y = -122.6750\n",
        "            self.map.location = [x, y]\n",
        "\n",
        "        elif string in self.layerNames:\n",
        "            xMin, xMax, yMin, yMax = [100, -100, 181, -181]\n",
        "            idx = self.layerNames.index(string)\n",
        "            layer = self.layers[idx]\n",
        "            # layer.df[0] - latitutde, layer.df[1] - longitude --> I know this looks ugly\n",
        "            # but is only meant to be a quick fix, will be optimized later\n",
        "            xMin = min(xMin, min(layer.df.iloc[:,0]))\n",
        "            xMax = max(xMax, max(layer.df.iloc[:,0]))\n",
        "            yMin = min(yMin, min(layer.df.iloc[:,1]))\n",
        "            yMax = max(yMax, max(layer.df.iloc[:,1]))\n",
        "            # adjust the map bound according the upper and lower bound of the dataset\n",
        "            self.map.fit_bounds([[xMin, yMin], [xMax, yMax]])\n",
        "        \n",
        "        elif string == 'all':\n",
        "            xMin, xMax, yMin, yMax = [100, -100, 181, -181]\n",
        "            for layer in self.layers:\n",
        "                xMin = min(xMin, min(layer.df.iloc[:,0]))\n",
        "                xMax = max(xMax, max(layer.df.iloc[:,0]))\n",
        "                yMin = min(yMin, min(layer.df.iloc[:,1]))\n",
        "                yMax = max(yMax, max(layer.df.iloc[:,1]))\n",
        "            # adjust the map bound according the upper and lower bound of the dataset\n",
        "            self.map.fit_bounds([[xMin, yMin], [xMax, yMax]])\n",
        "        # if the input string does not match any of the options\n",
        "        else:\n",
        "            print(f\"ERROR: wrong string input: {string}\\n, valid inputs are: {self.layerNames} or 'all' or 'town\")\n",
        "\n",
        "        \n",
        "def determine_extension(filename: str) -> str:\n",
        "    \"\"\"\n",
        "    Returns type of extension constant  associated with a Filename.\n",
        "    If Extension is not supperted IOError is raised.\n",
        "    \"\"\"\n",
        "    name_pattern = r'.*'\n",
        "    excel_reg = re.compile(name_pattern + r'.(xls|xlsx|xlsm|xlsb|xls)$')\n",
        "    csv_reg = re.compile(name_pattern + r'.csv$')\n",
        "    extension = None\n",
        "        \n",
        "    if excel_reg.match(filename):\n",
        "        extension = EXCEL_EXTENSION\n",
        "    elif csv_reg.match(filename):\n",
        "        extension = CSV_EXTENSION\n",
        "    else:\n",
        "        error_msg = \"File extension or name of \" + filename\n",
        "        error_msg += \" not supported. Use csv or excel documents\"\n",
        "        raise IOError(error_msg)\n",
        "    \n",
        "    return extension\n",
        "    \n",
        "def get_dataframe(filename: str) -> pd.DataFrame:\n",
        "    \"\"\"\n",
        "    Returns a dataframe from an excel or csv file\n",
        "    \"\"\"\n",
        "    \n",
        "    extension = determine_extension(filename)\n",
        "    df = None\n",
        "    if extension == EXCEL_EXTENSION:\n",
        "        df = pd.read_excel(filename)\n",
        "    elif extension == CSV_EXTENSION:\n",
        "        df = pd.read_csv(filename)\n",
        "    else:\n",
        "        error_msg = \"File extension or name of \" + filename\n",
        "        error_msg += \" not supported. Use csv or excel documents\"\n",
        "        raise IOError(error_msg)\n",
        "    # doing validation, modification, and dataframe making at the same time\n",
        "    # could be a terribly bad idea but a quick fix for now --Chen\n",
        "    for i in range(df.shape[0]):\n",
        "        for j in range(2):\n",
        "            string = df.iloc[i, j]\n",
        "            if type(string) == str and '°' in string:\n",
        "                df.iloc[i,j] = conv_coord(string)\n",
        "    return df\n",
        "\n",
        "\n",
        "def conv_coord(deg_notation):\n",
        "    degrees, rest = deg_notation.split('°', 1)\n",
        "    minutes, rest = rest.split(\"'\", 1)\n",
        "    seconds, direction = rest.split('\"', 1)\n",
        "    dec_notation = float(degrees) + float(minutes)/60 + float(seconds)/3600\n",
        "    \n",
        "    if direction == 'S' or direction == 'W':\n",
        "        dec_notation = -dec_notation\n",
        "\n",
        "    return dec_notation\n",
        "\n",
        "def get_map(files: list) -> EWBMap:\n",
        "    \"\"\"\"\n",
        "    Returns a map object read from a csv or excel file\n",
        "    \"\"\"\n",
        "    map_object = EWBMap()\n",
        "    for f in files:\n",
        "        layer = get_layer(f)\n",
        "        map_object.layers.append(layer)\n",
        "        map_object.layerNames.append(layer.name)\n",
        "    map_object.makeMapfromLayers()\n",
        "    map_object.recenter()\n",
        "    return map_object\n",
        "\n",
        "\n",
        "def get_layer(filename: str) -> EWBLayer:\n",
        "    map_df = get_dataframe(filename)\n",
        "    layername, color, _= re.split(',|_|-|\\\\.',filename.replace(' ', ''))\n",
        "    layer_object = EWBLayer(layername, color, map_df)\n",
        "\n",
        "    for row in map_df.itertuples():\n",
        "        tmpRow = list(row)\n",
        "        make_popups(layer_object.featureGroup, tmpRow[1], tmpRow[2], tmpRow[3], \n",
        "                    tmpRow[4], tmpRow[5], tmpRow[6], layer_object.color)\n",
        "\n",
        "    return layer_object\n",
        "   \n",
        "    \n",
        "def make_popups(layer, lat, lon, title, date=\"\", description=\"\", icon=\"home\", color=\"lightgray\"):\n",
        "    if date == \"\":\n",
        "        date = datetime.datetime.now()\n",
        "    folium.Marker(\n",
        "        location = [lat, lon],\n",
        "        icon = folium.Icon(icon=icon, color=color, prefix='fa'),\n",
        "        tooltip = title,\n",
        "        popup = folium.Popup(\n",
        "                    folium.Html('<b>%s</b> <br> <i>%s</i> <br> %s' %(title, date, description), script=True),\n",
        "                    # min_width=100,=> this is no longer valid\n",
        "                    max_width=450)\n",
        "        ).add_to(layer)\n",
        "    \n",
        "    \n",
        "def map_to_html (m, map_name, file_path =\"\"):\n",
        "    if file_path != \"\" and file_path[-1]!= '/':\n",
        "        file_path = file_path+\"/\"\n",
        "    path = file_path+map_name+\".html\"\n",
        "    m.save(path)\n",
        "    return path\n",
        "\n",
        "# still not working :/\n",
        "# we will not continue developing this function, I only keep this here for record keeping. --Chen\n",
        "def map_to_png(m, map_name, file_path =\"\", browser= 'Chrome'):\n",
        "    if file_path != \"\" and file_path[-1]!= '/':\n",
        "        file_path = file_path+\"/\"\n",
        "    fn = map_name+\".html\"\n",
        "    m.save(fn)\n",
        "    tmpurl='file://{path}/{mapfile}'.format(path=os.getcwd(),mapfile=fn)\n",
        "    delay =5\n",
        "    if browser == 'Safari':\n",
        "        browser = webdriver.Safari()\n",
        "    elif browser == 'Firefox':\n",
        "        browser = webdriver.Firefox()\n",
        "    else:\n",
        "        browser = webdriver.Chrome()\n",
        "    options = webdriver.ChromeOptions()\n",
        "    options.binary_location = \"./chromedriver.exe\"    #chrome binary location specified here\n",
        "    options.add_argument(\"--start-maximized\") #open Browser in maximized mode\n",
        "    options.add_argument(\"--no-sandbox\") #bypass OS security model\n",
        "    options.add_argument(\"--disable-dev-shm-usage\") #overcome limited resource problems\n",
        "    options.add_experimental_option(\"excludeSwitches\", [\"enable-automation\"])\n",
        "    options.add_experimental_option('useAutomationExtension', False)\n",
        "    brower = webdriver.Chrome(options=options, executable_path=r'./chromedriver.exe')\n",
        "    # browser.get('http://google.com/')\n",
        "    \n",
        "    browser.get(tmpurl)\n",
        "    # time.sleep(delay)\n",
        "    # browser.save_screenshot(file_path+map_name+'.png')\n",
        "    # browser.quit()\n",
        "\n"
      ],
      "execution_count": 92,
      "outputs": []
    },
    {
      "cell_type": "markdown",
      "metadata": {
        "id": "L3-hY7M6DCfm",
        "colab_type": "text"
      },
      "source": [
        "# user code"
      ]
    },
    {
      "cell_type": "code",
      "metadata": {
        "id": "jeapY2z262Wj",
        "colab_type": "code",
        "colab": {
          "base_uri": "https://localhost:8080/",
          "height": 124
        },
        "outputId": "a7abcc27-52b6-4eda-ec41-101f2771a73b"
      },
      "source": [
        "# run this cell if notebook is executed in Google Colab\n",
        "# ignore if run in jupyter notebook\n",
        "from google.colab import drive\n",
        "drive.mount('/content/drive')"
      ],
      "execution_count": 1,
      "outputs": [
        {
          "output_type": "stream",
          "text": [
            "Go to this URL in a browser: https://accounts.google.com/o/oauth2/auth?client_id=947318989803-6bn6qk8qdgf4n4g3pfee6491hc0brc4i.apps.googleusercontent.com&redirect_uri=urn%3aietf%3awg%3aoauth%3a2.0%3aoob&scope=email%20https%3a%2f%2fwww.googleapis.com%2fauth%2fdocs.test%20https%3a%2f%2fwww.googleapis.com%2fauth%2fdrive%20https%3a%2f%2fwww.googleapis.com%2fauth%2fdrive.photos.readonly%20https%3a%2f%2fwww.googleapis.com%2fauth%2fpeopleapi.readonly&response_type=code\n",
            "\n",
            "Enter your authorization code:\n",
            "··········\n",
            "Mounted at /content/drive\n"
          ],
          "name": "stdout"
        }
      ]
    },
    {
      "cell_type": "code",
      "metadata": {
        "id": "dkUuyeBG6pJ0",
        "colab_type": "code",
        "colab": {
          "base_uri": "https://localhost:8080/",
          "height": 87
        },
        "outputId": "d4b26426-410c-4671-b1b6-e3556e050492"
      },
      "source": [
        "# change the directory to where you store the notebook and the excel/csv file\n",
        "%cd /content/drive/My Drive/Colab Notebooks/folium\n",
        "!ls"
      ],
      "execution_count": 61,
      "outputs": [
        {
          "output_type": "stream",
          "text": [
            "/content/drive/My Drive/Colab Notebooks/folium\n",
            "app_update.ipynb  sample_blue.xlsx  Surveyees_orange.xlsx    vertical_red.xlsx\n",
            "chromedriver.exe  sampleHTML.html   Surveyees,Yellow.csv\n",
            "folium.ipynb\t  samplePNG.html    Surveyees,Yellow.gsheet\n"
          ],
          "name": "stdout"
        }
      ]
    },
    {
      "cell_type": "code",
      "metadata": {
        "id": "OwUHcP0h6pJ4",
        "colab_type": "code",
        "colab": {
          "base_uri": "https://localhost:8080/",
          "height": 35
        },
        "outputId": "32a1eb63-e7c9-4577-f20d-5e886908b9f0"
      },
      "source": [
        "# test cases\n",
        "# construction block\n",
        "sampleMap = get_map(['Surveyees,Yellow.csv'])\n",
        "map_to_html(sampleMap.map, 'sampleHTML', '.')\n",
        "# sampleMap.map"
      ],
      "execution_count": 95,
      "outputs": [
        {
          "output_type": "execute_result",
          "data": {
            "application/vnd.google.colaboratory.intrinsic+json": {
              "type": "string"
            },
            "text/plain": [
              "'./sampleHTML.html'"
            ]
          },
          "metadata": {
            "tags": []
          },
          "execution_count": 95
        }
      ]
    },
    {
      "cell_type": "code",
      "metadata": {
        "id": "T8cu6k5eetIq",
        "colab_type": "code",
        "colab": {
          "base_uri": "https://localhost:8080/",
          "height": 707
        },
        "outputId": "d9706ffd-a2ba-43e7-dc51-4a015d918d9b"
      },
      "source": [
        "# visualization block\n",
        "sampleMap.recenter()\n",
        "sampleMap.map"
      ],
      "execution_count": 96,
      "outputs": [
        {
          "output_type": "execute_result",
          "data": {
            "text/html": [
              "<div style=\"width:100%;\"><div style=\"position:relative;width:100%;height:0;padding-bottom:60%;\"><span style=\"color:#565656\">Make this Notebook Trusted to load map: File -> Trust Notebook</span><iframe src=\"about:blank\" style=\"position:absolute;width:100%;height:100%;left:0;top:0;border:none !important;\" data-html=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 onload=\"this.contentDocument.open();this.contentDocument.write(atob(this.getAttribute('data-html')));this.contentDocument.close();\" allowfullscreen webkitallowfullscreen mozallowfullscreen></iframe></div></div>"
            ],
            "text/plain": [
              "<folium.folium.Map at 0x7f84a8ba1208>"
            ]
          },
          "metadata": {
            "tags": []
          },
          "execution_count": 96
        }
      ]
    }
  ]
}